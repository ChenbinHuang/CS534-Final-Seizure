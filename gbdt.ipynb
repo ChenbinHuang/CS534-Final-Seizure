{
 "cells": [
  {
   "cell_type": "markdown",
   "id": "3eccc6ab-2cad-486c-a7ee-badfe4783cc8",
   "metadata": {},
   "source": [
    "# Advanced Model \n",
    "Gradient boosting decision tree"
   ]
  },
  {
   "cell_type": "code",
   "execution_count": 7,
   "id": "ee794b86-38a0-4b4b-a521-bbb35896ff45",
   "metadata": {},
   "outputs": [],
   "source": [
    "from pathlib import Path\n",
    "import os\n",
    "import numpy as np\n",
    "import pandas as pd\n",
    "\n",
    "from sklearn.ensemble import GradientBoostingRegressor\n",
    "from sklearn.metrics import classification_report,roc_curve, auc, RocCurveDisplay, accuracy_score, confusion_matrix\n",
    "from sklearn.model_selection import cross_validate, StratifiedShuffleSplit\n",
    "from sklearn.utils import resample"
   ]
  },
  {
   "cell_type": "code",
   "execution_count": 11,
   "id": "fbdb6e1a-06c5-47b1-8dd4-a44b14198625",
   "metadata": {},
   "outputs": [],
   "source": [
    "from feature_selection.feature_selection import feature_selection, feature_selection_for_detection\n",
    "from splitter import splitter"
   ]
  },
  {
   "cell_type": "code",
   "execution_count": 9,
   "id": "24e2c903-c79e-4a83-be27-d1976fad879d",
   "metadata": {},
   "outputs": [],
   "source": [
    "pred_path = \"../files/SeizurePrediction/\"\n",
    "dect_path = \"../files/SeizureDetection/\""
   ]
  },
  {
   "cell_type": "markdown",
   "id": "42ede6ea-2ddc-462f-944a-552c19282806",
   "metadata": {},
   "source": [
    "## Prediction"
   ]
  },
  {
   "cell_type": "code",
   "execution_count": 4,
   "id": "6ed96e05-d552-422d-acce-a35471f537c9",
   "metadata": {},
   "outputs": [],
   "source": [
    "file_list = list(Path(pred_path).glob(\"*.csv\"))\n",
    "samples = [f.name.split('.')[0] for f in file_list]"
   ]
  },
  {
   "cell_type": "code",
   "execution_count": 5,
   "id": "89a5b1b7-820c-4f76-9b56-1409621d3005",
   "metadata": {},
   "outputs": [
    {
     "data": {
      "text/plain": [
       "WindowsPath('../files/SeizurePrediction')"
      ]
     },
     "execution_count": 5,
     "metadata": {},
     "output_type": "execute_result"
    }
   ],
   "source": [
    "file_list[0].parent"
   ]
  },
  {
   "cell_type": "code",
   "execution_count": 6,
   "id": "f71b798c-ab79-4bd0-ac50-676a1f43865d",
   "metadata": {},
   "outputs": [
    {
     "ename": "NameError",
     "evalue": "name 'data_x' is not defined",
     "output_type": "error",
     "traceback": [
      "\u001b[1;31m---------------------------------------------------------------------------\u001b[0m",
      "\u001b[1;31mNameError\u001b[0m                                 Traceback (most recent call last)",
      "\u001b[1;32m<ipython-input-6-950e47fb3e07>\u001b[0m in \u001b[0;36m<module>\u001b[1;34m\u001b[0m\n\u001b[1;32m----> 1\u001b[1;33m \u001b[0mres\u001b[0m \u001b[1;33m=\u001b[0m \u001b[0mpd\u001b[0m\u001b[1;33m.\u001b[0m\u001b[0mDataFrame\u001b[0m\u001b[1;33m(\u001b[0m\u001b[0mdata_x\u001b[0m\u001b[1;33m)\u001b[0m\u001b[1;33m\u001b[0m\u001b[1;33m\u001b[0m\u001b[0m\n\u001b[0m\u001b[0;32m      2\u001b[0m \u001b[0mres\u001b[0m\u001b[1;33m[\u001b[0m\u001b[1;34m\"result\"\u001b[0m\u001b[1;33m]\u001b[0m \u001b[1;33m=\u001b[0m \u001b[0mdata_y\u001b[0m\u001b[1;33m\u001b[0m\u001b[1;33m\u001b[0m\u001b[0m\n\u001b[0;32m      3\u001b[0m \u001b[0mres\u001b[0m\u001b[1;33m\u001b[0m\u001b[1;33m\u001b[0m\u001b[0m\n",
      "\u001b[1;31mNameError\u001b[0m: name 'data_x' is not defined"
     ]
    }
   ],
   "source": [
    "res = pd.DataFrame(data_x)\n",
    "res[\"result\"] = data_y\n",
    "res"
   ]
  },
  {
   "cell_type": "code",
   "execution_count": 16,
   "id": "899fcced-783c-46f2-82c1-399c6082bcb7",
   "metadata": {},
   "outputs": [
    {
     "name": "stdout",
     "output_type": "stream",
     "text": [
      "========== Patient_1 ==========\n",
      "Number of Observation(raw): 1044\n",
      "Number of features(raw): 1905\n",
      "Fitting 5 folds for each of 20 candidates, totalling 100 fits\n",
      "========== Patient_2 ==========\n",
      "Number of Observation(raw): 3141\n",
      "Number of features(raw): 449\n",
      "Fitting 5 folds for each of 20 candidates, totalling 100 fits\n",
      "========== Patient_3 ==========\n",
      "Number of Observation(raw): 1041\n",
      "Number of features(raw): 1541\n",
      "Fitting 5 folds for each of 20 candidates, totalling 100 fits\n",
      "========== Patient_4 ==========\n",
      "Number of Observation(raw): 210\n",
      "Number of features(raw): 2017\n",
      "Fitting 5 folds for each of 20 candidates, totalling 100 fits\n",
      "========== Patient_5 ==========\n",
      "Number of Observation(raw): 2745\n",
      "Number of features(raw): 1793\n",
      "Fitting 5 folds for each of 20 candidates, totalling 100 fits\n",
      "========== Patient_6 ==========\n",
      "Number of Observation(raw): 2997\n",
      "Number of features(raw): 841\n",
      "Fitting 5 folds for each of 20 candidates, totalling 100 fits\n",
      "========== Patient_7 ==========\n",
      "Number of Observation(raw): 3521\n",
      "Number of features(raw): 1009\n",
      "Fitting 5 folds for each of 20 candidates, totalling 100 fits\n",
      "========== Patient_8 ==========\n",
      "Number of Observation(raw): 1890\n",
      "Number of features(raw): 449\n",
      "Fitting 5 folds for each of 20 candidates, totalling 100 fits\n"
     ]
    }
   ],
   "source": [
    "file_list = [f for f in Path(dect_path).glob(\"*atient*.csv\") if \"reduced\" not in f.name]\n",
    "for f in file_list:\n",
    "    # data = pd.read_csv(f.resolve(), header=None)\n",
    "    sample = f.name.split('.')[0]\n",
    "    print('='*10,sample,'='*10)\n",
    "    data_x,data_y = feature_selection_for_detection(f.resolve())\n",
    "    res = pd.DataFrame(data_x)\n",
    "    res[\"result\"] = data_y\n",
    "    res.to_csv(os.path.join(f.parent.resolve(), sample+\"_reduced.csv\"), index=False)"
   ]
  },
  {
   "cell_type": "code",
   "execution_count": null,
   "id": "b8ced887-c6ac-4c69-9708-971ec3f04cf4",
   "metadata": {},
   "outputs": [],
   "source": [
    "file_list = list(Path(pred_path).glob(\"*.csv\"))\n",
    "for f in file_list:\n",
    "    # data = pd.read_csv(f.resolve(), header=None)\n",
    "    sample = f.name.split('.')[0]\n",
    "    print('='*10,sample,'='*10)\n",
    "    data_x,data_y = feature_selection(f.resolve())\n",
    "    res = pd.DataFrame(data_x)\n",
    "    res[\"result\"] = data_y\n",
    "    res.to_csv(os.path.join(f.parent.resolve(), sample+\"_reduced.csv\"), index=False)"
   ]
  },
  {
   "cell_type": "code",
   "execution_count": null,
   "id": "92e43a74-34b2-4b90-a4e8-affc07f01012",
   "metadata": {},
   "outputs": [],
   "source": [
    "def plot_roc():\n",
    "    tprs = []\n",
    "    aucs = []\n",
    "    mean_fpr = np.linspace(0, 1, 100)\n",
    "\n",
    "    fig, ax = plt.subplots()\n",
    "    for i, (train, test) in enumerate(cv.split(X, y)):\n",
    "        classifier.fit(X[train], y[train])\n",
    "        viz = RocCurveDisplay.from_estimator(\n",
    "            classifier,\n",
    "            X[test],\n",
    "            y[test],\n",
    "            name=\"ROC fold {}\".format(i),\n",
    "            alpha=0.3,\n",
    "            lw=1,\n",
    "            ax=ax,\n",
    "        )\n",
    "        interp_tpr = np.interp(mean_fpr, viz.fpr, viz.tpr)\n",
    "        interp_tpr[0] = 0.0\n",
    "        tprs.append(interp_tpr)\n",
    "        aucs.append(viz.roc_auc)\n",
    "\n",
    "    ax.plot([0, 1], [0, 1], linestyle=\"--\", lw=2, color=\"r\", label=\"Chance\", alpha=0.8)\n",
    "\n",
    "    mean_tpr = np.mean(tprs, axis=0)\n",
    "    mean_tpr[-1] = 1.0\n",
    "    mean_auc = auc(mean_fpr, mean_tpr)\n",
    "    std_auc = np.std(aucs)\n",
    "    ax.plot(\n",
    "        mean_fpr,\n",
    "        mean_tpr,\n",
    "        color=\"b\",\n",
    "        label=r\"Mean ROC (AUC = %0.2f $\\pm$ %0.2f)\" % (mean_auc, std_auc),\n",
    "        lw=2,\n",
    "        alpha=0.8,\n",
    "    )\n",
    "\n",
    "    std_tpr = np.std(tprs, axis=0)\n",
    "    tprs_upper = np.minimum(mean_tpr + std_tpr, 1)\n",
    "    tprs_lower = np.maximum(mean_tpr - std_tpr, 0)\n",
    "    ax.fill_between(\n",
    "        mean_fpr,\n",
    "        tprs_lower,\n",
    "        tprs_upper,\n",
    "        color=\"grey\",\n",
    "        alpha=0.2,\n",
    "        label=r\"$\\pm$ 1 std. dev.\",\n",
    "    )\n",
    "\n",
    "    ax.set(\n",
    "        xlim=[-0.05, 1.05],\n",
    "        ylim=[-0.05, 1.05],\n",
    "        title=\"Receiver operating characteristic example\",\n",
    "    )\n",
    "    ax.legend(loc=\"lower right\")\n",
    "plt.show()"
   ]
  },
  {
   "cell_type": "code",
   "execution_count": 49,
   "id": "6fd7fb1f-200a-494d-8573-080eb6bdf938",
   "metadata": {},
   "outputs": [],
   "source": [
    "def train_pred(data_x, data_y, plotflag=False, save=False):\n",
    "    for i in range(5):\n",
    "        X_train, X_test, y_train, y_test = splitter(data_x, data_y, split_ratio=0.2, scaler=True)\n",
    "        gradient_boosting = GradientBoostingRegressor(n_estimators=200).fit(X_train, y_train)\n",
    "        y_pred = gradient_boosting.predict(X_test)\n",
    "        print(gradient_boosting.score(X_test, y_test))\n",
    "        print(accuracy_score(y_test, 1*(y_test>0.5)))\n",
    "        break\n",
    "    return y_test, y_pred"
   ]
  },
  {
   "cell_type": "code",
   "execution_count": 50,
   "id": "81dd5da8-b0ab-4cd4-840d-9c7152fd7356",
   "metadata": {},
   "outputs": [
    {
     "name": "stdout",
     "output_type": "stream",
     "text": [
      "0.048694162192189694\n",
      "1.0\n"
     ]
    }
   ],
   "source": [
    "y_test, y_pred = train_pred(data_x, data_y)"
   ]
  },
  {
   "cell_type": "code",
   "execution_count": 67,
   "id": "c01ad824-e4a5-405e-a640-9bfa971ecfc2",
   "metadata": {},
   "outputs": [
    {
     "data": {
      "text/plain": [
       "[0.998062015503876, 0.045454545454545456, 0.9591078066914498, 0.5]"
      ]
     },
     "execution_count": 67,
     "metadata": {},
     "output_type": "execute_result"
    }
   ],
   "source": [
    "tn, fp, fn, tp = confusion_matrix(y_test, 1*(y_pred>0.5)).ravel()\n",
    "specificity = tn / (tn+fp)\n",
    "sensitivity = tp / (tp+fn)\n",
    "accuracy = (tp+tn)/(tp+fn+fp+tn)\n",
    "PPV = tp / (tp+fp)\n",
    "[specificity,sensitivity,accuracy,PPV]"
   ]
  },
  {
   "cell_type": "code",
   "execution_count": 68,
   "id": "53fe74c6-b78e-476b-9b18-c0a9dc37b612",
   "metadata": {},
   "outputs": [],
   "source": [
    "X_train, X_test, y_train, y_test = splitter(data_x, data_y, split_ratio=0.2, scaler=True)"
   ]
  },
  {
   "cell_type": "code",
   "execution_count": 72,
   "id": "3a804ea0-5c11-4342-90fe-8e2d5cd76dbf",
   "metadata": {},
   "outputs": [
    {
     "data": {
      "text/plain": [
       "2688"
      ]
     },
     "execution_count": 72,
     "metadata": {},
     "output_type": "execute_result"
    }
   ],
   "source": [
    "len(data_y)"
   ]
  },
  {
   "cell_type": "code",
   "execution_count": 80,
   "id": "ef9e4304-5204-4cbf-8bbe-879978486a75",
   "metadata": {},
   "outputs": [
    {
     "name": "stdout",
     "output_type": "stream",
     "text": [
      "102.0 2150\n",
      "102.0 2150\n",
      "102.0 2150\n",
      "102.0 2150\n",
      "102.0 2150\n"
     ]
    }
   ],
   "source": [
    "sss = StratifiedShuffleSplit(train_size=0.8, n_splits=5) \n",
    "for train_index, test_index in sss.split(data_x, data_y):\n",
    "    print(sum(data_y[train_index]), len(train_index))"
   ]
  },
  {
   "cell_type": "code",
   "execution_count": null,
   "id": "0e9bf610-2780-432d-b50f-b38f481e6fcc",
   "metadata": {},
   "outputs": [],
   "source": []
  }
 ],
 "metadata": {
  "kernelspec": {
   "display_name": "Python 3",
   "language": "python",
   "name": "python3"
  },
  "language_info": {
   "codemirror_mode": {
    "name": "ipython",
    "version": 3
   },
   "file_extension": ".py",
   "mimetype": "text/x-python",
   "name": "python",
   "nbconvert_exporter": "python",
   "pygments_lexer": "ipython3",
   "version": "3.9.4"
  }
 },
 "nbformat": 4,
 "nbformat_minor": 5
}
