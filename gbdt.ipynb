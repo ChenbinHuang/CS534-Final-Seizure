{
 "cells": [
  {
   "cell_type": "markdown",
   "id": "47f1a853-67d3-4aad-9db7-ca000a16d199",
   "metadata": {},
   "source": [
    "[!toc]"
   ]
  },
  {
   "cell_type": "markdown",
   "id": "3eccc6ab-2cad-486c-a7ee-badfe4783cc8",
   "metadata": {},
   "source": [
    "# Advanced Model \n",
    "Gradient boosting decision tree"
   ]
  },
  {
   "cell_type": "code",
   "execution_count": 104,
   "id": "ee794b86-38a0-4b4b-a521-bbb35896ff45",
   "metadata": {},
   "outputs": [],
   "source": [
    "from pathlib import Path\n",
    "import os\n",
    "import numpy as np\n",
    "import pandas as pd\n",
    "import matplotlib.pyplot as plt\n",
    "from sklearn.ensemble import GradientBoostingClassifier\n",
    "from sklearn.metrics import classification_report,roc_curve, auc, plot_roc_curve, accuracy_score, confusion_matrix, classification_report\n",
    "from sklearn.model_selection import cross_validate, StratifiedShuffleSplit, StratifiedKFold, cross_val_score\n",
    "from sklearn.utils import resample\n",
    "from sklearn import preprocessing"
   ]
  },
  {
   "cell_type": "code",
   "execution_count": 18,
   "id": "33bf80cf-a2e8-4dc5-b52c-10cc73e59642",
   "metadata": {},
   "outputs": [],
   "source": [
    "from imblearn.over_sampling import SMOTE \n",
    "from collections import Counter"
   ]
  },
  {
   "cell_type": "code",
   "execution_count": 11,
   "id": "fbdb6e1a-06c5-47b1-8dd4-a44b14198625",
   "metadata": {},
   "outputs": [],
   "source": [
    "from feature_selection.feature_selection import feature_selection, feature_selection_for_detection\n",
    "from splitter import splitter"
   ]
  },
  {
   "cell_type": "code",
   "execution_count": 9,
   "id": "24e2c903-c79e-4a83-be27-d1976fad879d",
   "metadata": {},
   "outputs": [],
   "source": [
    "pred_path = \"../files/SeizurePrediction/\"\n",
    "dect_path = \"../files/SeizureDetection/\""
   ]
  },
  {
   "cell_type": "markdown",
   "id": "42ede6ea-2ddc-462f-944a-552c19282806",
   "metadata": {},
   "source": [
    "## Prediction\n",
    "\n",
    "### Feature Selection"
   ]
  },
  {
   "cell_type": "code",
   "execution_count": 4,
   "id": "6ed96e05-d552-422d-acce-a35471f537c9",
   "metadata": {},
   "outputs": [],
   "source": [
    "file_list = list(Path(pred_path).glob(\"*.csv\"))\n",
    "samples = [f.name.split('.')[0] for f in file_list]"
   ]
  },
  {
   "cell_type": "code",
   "execution_count": 5,
   "id": "89a5b1b7-820c-4f76-9b56-1409621d3005",
   "metadata": {},
   "outputs": [
    {
     "data": {
      "text/plain": [
       "WindowsPath('../files/SeizurePrediction')"
      ]
     },
     "execution_count": 5,
     "metadata": {},
     "output_type": "execute_result"
    }
   ],
   "source": [
    "file_list[0].parent"
   ]
  },
  {
   "cell_type": "code",
   "execution_count": 6,
   "id": "f71b798c-ab79-4bd0-ac50-676a1f43865d",
   "metadata": {},
   "outputs": [
    {
     "ename": "NameError",
     "evalue": "name 'data_x' is not defined",
     "output_type": "error",
     "traceback": [
      "\u001b[1;31m---------------------------------------------------------------------------\u001b[0m",
      "\u001b[1;31mNameError\u001b[0m                                 Traceback (most recent call last)",
      "\u001b[1;32m<ipython-input-6-950e47fb3e07>\u001b[0m in \u001b[0;36m<module>\u001b[1;34m\u001b[0m\n\u001b[1;32m----> 1\u001b[1;33m \u001b[0mres\u001b[0m \u001b[1;33m=\u001b[0m \u001b[0mpd\u001b[0m\u001b[1;33m.\u001b[0m\u001b[0mDataFrame\u001b[0m\u001b[1;33m(\u001b[0m\u001b[0mdata_x\u001b[0m\u001b[1;33m)\u001b[0m\u001b[1;33m\u001b[0m\u001b[1;33m\u001b[0m\u001b[0m\n\u001b[0m\u001b[0;32m      2\u001b[0m \u001b[0mres\u001b[0m\u001b[1;33m[\u001b[0m\u001b[1;34m\"result\"\u001b[0m\u001b[1;33m]\u001b[0m \u001b[1;33m=\u001b[0m \u001b[0mdata_y\u001b[0m\u001b[1;33m\u001b[0m\u001b[1;33m\u001b[0m\u001b[0m\n\u001b[0;32m      3\u001b[0m \u001b[0mres\u001b[0m\u001b[1;33m\u001b[0m\u001b[1;33m\u001b[0m\u001b[0m\n",
      "\u001b[1;31mNameError\u001b[0m: name 'data_x' is not defined"
     ]
    }
   ],
   "source": [
    "res = pd.DataFrame(data_x)\n",
    "res[\"result\"] = data_y\n",
    "res"
   ]
  },
  {
   "cell_type": "code",
   "execution_count": 16,
   "id": "899fcced-783c-46f2-82c1-399c6082bcb7",
   "metadata": {},
   "outputs": [
    {
     "name": "stdout",
     "output_type": "stream",
     "text": [
      "========== Patient_1 ==========\n",
      "Number of Observation(raw): 1044\n",
      "Number of features(raw): 1905\n",
      "Fitting 5 folds for each of 20 candidates, totalling 100 fits\n",
      "========== Patient_2 ==========\n",
      "Number of Observation(raw): 3141\n",
      "Number of features(raw): 449\n",
      "Fitting 5 folds for each of 20 candidates, totalling 100 fits\n",
      "========== Patient_3 ==========\n",
      "Number of Observation(raw): 1041\n",
      "Number of features(raw): 1541\n",
      "Fitting 5 folds for each of 20 candidates, totalling 100 fits\n",
      "========== Patient_4 ==========\n",
      "Number of Observation(raw): 210\n",
      "Number of features(raw): 2017\n",
      "Fitting 5 folds for each of 20 candidates, totalling 100 fits\n",
      "========== Patient_5 ==========\n",
      "Number of Observation(raw): 2745\n",
      "Number of features(raw): 1793\n",
      "Fitting 5 folds for each of 20 candidates, totalling 100 fits\n",
      "========== Patient_6 ==========\n",
      "Number of Observation(raw): 2997\n",
      "Number of features(raw): 841\n",
      "Fitting 5 folds for each of 20 candidates, totalling 100 fits\n",
      "========== Patient_7 ==========\n",
      "Number of Observation(raw): 3521\n",
      "Number of features(raw): 1009\n",
      "Fitting 5 folds for each of 20 candidates, totalling 100 fits\n",
      "========== Patient_8 ==========\n",
      "Number of Observation(raw): 1890\n",
      "Number of features(raw): 449\n",
      "Fitting 5 folds for each of 20 candidates, totalling 100 fits\n"
     ]
    }
   ],
   "source": [
    "file_list = [f for f in Path(dect_path).glob(\"*atient*.csv\") if \"reduced\" not in f.name]\n",
    "for f in file_list:\n",
    "    # data = pd.read_csv(f.resolve(), header=None)\n",
    "    sample = f.name.split('.')[0]\n",
    "    print('='*10,sample,'='*10)\n",
    "    data_x,data_y = feature_selection_for_detection(f.resolve())\n",
    "    res = pd.DataFrame(data_x)\n",
    "    res[\"result\"] = data_y\n",
    "    res.to_csv(os.path.join(f.parent.resolve(), sample+\"_reduced.csv\"), index=False)"
   ]
  },
  {
   "cell_type": "code",
   "execution_count": null,
   "id": "b8ced887-c6ac-4c69-9708-971ec3f04cf4",
   "metadata": {},
   "outputs": [],
   "source": [
    "file_list = list(Path(pred_path).glob(\"*.csv\"))\n",
    "for f in file_list:\n",
    "    # data = pd.read_csv(f.resolve(), header=None)\n",
    "    sample = f.name.split('.')[0]\n",
    "    print('='*10,sample,'='*10)\n",
    "    data_x,data_y = feature_selection(f.resolve())\n",
    "    res = pd.DataFrame(data_x)\n",
    "    res[\"result\"] = data_y\n",
    "    res.to_csv(os.path.join(f.parent.resolve(), sample+\"_reduced.csv\"), index=False)"
   ]
  },
  {
   "cell_type": "markdown",
   "id": "ec70ad64-810a-4700-9203-6f0f5173aaad",
   "metadata": {},
   "source": [
    "### balance data"
   ]
  },
  {
   "cell_type": "code",
   "execution_count": 108,
   "id": "28a002c4-0ef1-4be6-a72f-4d1d883ea952",
   "metadata": {},
   "outputs": [],
   "source": [
    "def balance_data(data_x, data_y,verbose=False):\n",
    "    if verbose: print('Original dataset shape %s' % Counter(data_y))\n",
    "    sm = SMOTE()\n",
    "    X_res, y_res = sm.fit_resample(data_x, data_y)\n",
    "    if verbose: print('Resampled dataset shape %s' % Counter(y_res))\n",
    "    return X_res, y_res\n",
    "\n",
    "def scale_data(x):\n",
    "    train_scaler = preprocessing.StandardScaler().fit(x)\n",
    "    return train_scaler.transform(x)\n"
   ]
  },
  {
   "cell_type": "markdown",
   "id": "a48573e8-570c-42f7-820e-591d31a0c46b",
   "metadata": {},
   "source": [
    "### gbdt"
   ]
  },
  {
   "cell_type": "code",
   "execution_count": 124,
   "id": "6fd7fb1f-200a-494d-8573-080eb6bdf938",
   "metadata": {},
   "outputs": [],
   "source": [
    "def train_pred(X, y, plotflag=False, save=False):\n",
    "    cv = StratifiedKFold(5,shuffle = True, random_state=2021534)\n",
    "    tprs = []\n",
    "    aucs = []\n",
    "    \n",
    "    originalclass = []\n",
    "    predictedclass = []\n",
    "\n",
    "    mean_fpr = np.linspace(0, 1, 100)\n",
    "    fig, ax = plt.subplots(fig_s)\n",
    "    scaler = preprocessing.StandardScaler().fit(X)\n",
    "    print(\"{:^5s},{:^15s},{:^15s},{:^15s},{:^15s},{:^15s}\".format(\"fold\",\"specificity\",\"sensitivity\",'accuracy','PPV','f1'))\n",
    "    for i, (train, test) in enumerate(cv.split(X, y)):\n",
    "        X_train, y_train = balance_data(X[train], y[train])\n",
    "        X_train = scaler.transform(X_train)\n",
    "        X_test, y_test = X[test], y[test]\n",
    "        X_test = scaler.transform(X_test)\n",
    "        gradient_boosting = GradientBoostingClassifier(n_estimators=200).fit(X_train, y_train)\n",
    "        y_pred = gradient_boosting.predict(X_test)\n",
    "        \n",
    "        originalclass.extend(y_test)\n",
    "        predictedclass.extend(y_pred)\n",
    "    \n",
    "        viz = plot_roc_curve(gradient_boosting, X_test, y_test,\n",
    "                         name='ROC fold {}'.format(i),\n",
    "                         alpha=0.3, lw=1, ax=ax)\n",
    "        interp_tpr = np.interp(mean_fpr, viz.fpr, viz.tpr)\n",
    "        interp_tpr[0] = 0.0\n",
    "        tprs.append(interp_tpr)\n",
    "        aucs.append(viz.roc_auc)\n",
    "        \n",
    "        # basic statistics\n",
    "        y_pred = gradient_boosting.predict(X_test)\n",
    "        tn, fp, fn, tp = confusion_matrix(y_test, y_pred).ravel()\n",
    "        specificity = tn / (tn+fp)\n",
    "        sensitivity = tp / (tp+fn)\n",
    "        accuracy = (tp+tn)/(tp+fn+fp+tn)\n",
    "        PPV = tp / (tp+fp)\n",
    "        f1 =  2*((PPV*sensitivity)/(PPV+sensitivity))\n",
    "        print(\"{:^5d},{:^15.4f},{:^15.4f},{:^15.4f},{:^15.4f},{:^15.4f}\".format(i,specificity,sensitivity,accuracy,PPV,f1))\n",
    "    \n",
    "    print(classification_report(originalclass, predictedclass))\n",
    "    \n",
    "    ax.plot([0, 1], [0, 1], linestyle='--', lw=2, color='r',\n",
    "            label='Chance', alpha=.8)\n",
    "\n",
    "    mean_tpr = np.mean(tprs, axis=0)\n",
    "    mean_tpr[-1] = 1.0\n",
    "    mean_auc = auc(mean_fpr, mean_tpr)\n",
    "    std_auc = np.std(aucs)\n",
    "    ax.plot(mean_fpr, mean_tpr, color='b',\n",
    "            label=r'Mean ROC (AUC = %0.2f $\\pm$ %0.2f)' % (mean_auc, std_auc),\n",
    "            lw=2, alpha=.8)\n",
    "\n",
    "    std_tpr = np.std(tprs, axis=0)\n",
    "    tprs_upper = np.minimum(mean_tpr + std_tpr, 1)\n",
    "    tprs_lower = np.maximum(mean_tpr - std_tpr, 0)\n",
    "    ax.fill_between(mean_fpr, tprs_lower, tprs_upper, color='grey', alpha=.2,\n",
    "                    label=r'$\\pm$ 1 std. dev.')\n",
    "\n",
    "    ax.set(xlim=[-0.05, 1.05], ylim=[-0.05, 1.05])\n",
    "    ax.legend(loc=\"lower right\")\n",
    "    if save:\n",
    "        plt.savefig(os.path.join(\"./figures\", \"gbdt_rocaoc_{}.pdf\".format(save)))\n",
    "    plt.show()\n",
    "    return aucs\n"
   ]
  },
  {
   "cell_type": "code",
   "execution_count": 125,
   "id": "81dd5da8-b0ab-4cd4-840d-9c7152fd7356",
   "metadata": {},
   "outputs": [
    {
     "name": "stdout",
     "output_type": "stream",
     "text": [
      "fold ,  specificity  ,  sensitivity  ,   accuracy    ,      PPV      ,      f1       \n",
      "  0  ,    0.9512     ,    0.3077     ,    0.9201     ,    0.2424     ,    0.2712     \n",
      "  1  ,    0.9453     ,    0.1538     ,    0.9071     ,    0.1250     ,    0.1379     \n",
      "  2  ,    0.9336     ,    0.4231     ,    0.9089     ,    0.2444     ,    0.3099     \n",
      "  3  ,    0.9453     ,    0.2000     ,    0.9106     ,    0.1515     ,    0.1724     \n",
      "  4  ,    0.9316     ,    0.2800     ,    0.9013     ,    0.1667     ,    0.2090     \n",
      "              precision    recall  f1-score   support\n",
      "\n",
      "         0.0       0.96      0.94      0.95      2560\n",
      "         1.0       0.19      0.27      0.22       128\n",
      "\n",
      "    accuracy                           0.91      2688\n",
      "   macro avg       0.58      0.61      0.59      2688\n",
      "weighted avg       0.93      0.91      0.92      2688\n",
      "\n"
     ]
    },
    {
     "data": {
      "image/png": "[encoded data removed]",
      "text/plain": [
       "<Figure size 432x288 with 1 Axes>"
      ]
     },
     "metadata": {
      "needs_background": "light"
     },
     "output_type": "display_data"
    }
   ],
   "source": [
    "aucs = train_pred(data_x, data_y)"
   ]
  },
  {
   "cell_type": "code",
   "execution_count": 92,
   "id": "79c67545-13b6-4854-b289-edaeb407b46a",
   "metadata": {},
   "outputs": [
    {
     "data": {
      "text/plain": [
       "0.7917195207892882"
      ]
     },
     "execution_count": 92,
     "metadata": {},
     "output_type": "execute_result"
    }
   ],
   "source": [
    "np.mean(aucs)"
   ]
  },
  {
   "cell_type": "code",
   "execution_count": 40,
   "id": "c01ad824-e4a5-405e-a640-9bfa971ecfc2",
   "metadata": {},
   "outputs": [
    {
     "data": {
      "text/plain": [
       "[0.9302325581395349, 0.5503875968992248, 0.7403100775193798, 0.8875]"
      ]
     },
     "execution_count": 40,
     "metadata": {},
     "output_type": "execute_result"
    }
   ],
   "source": [
    "tn, fp, fn, tp = confusion_matrix(y_test, 1*(y_pred>0.5)).ravel()\n",
    "specificity = tn / (tn+fp)\n",
    "sensitivity = tp / (tp+fn)\n",
    "accuracy = (tp+tn)/(tp+fn+fp+tn)\n",
    "PPV = tp / (tp+fp)\n",
    "[specificity,sensitivity,accuracy,PPV]"
   ]
  },
  {
   "cell_type": "code",
   "execution_count": 31,
   "id": "53fe74c6-b78e-476b-9b18-c0a9dc37b612",
   "metadata": {},
   "outputs": [],
   "source": [
    "X_train, X_test, y_train, y_test = splitter(data_x, data_y, split_ratio=0.2, scaler=True)"
   ]
  },
  {
   "cell_type": "code",
   "execution_count": 32,
   "id": "3a804ea0-5c11-4342-90fe-8e2d5cd76dbf",
   "metadata": {},
   "outputs": [
    {
     "data": {
      "text/plain": [
       "2688"
      ]
     },
     "execution_count": 32,
     "metadata": {},
     "output_type": "execute_result"
    }
   ],
   "source": [
    "len(data_y)"
   ]
  },
  {
   "cell_type": "code",
   "execution_count": 33,
   "id": "ef9e4304-5204-4cbf-8bbe-879978486a75",
   "metadata": {},
   "outputs": [
    {
     "name": "stdout",
     "output_type": "stream",
     "text": [
      "102.0 2150\n",
      "102.0 2150\n",
      "102.0 2150\n",
      "102.0 2150\n",
      "102.0 2150\n"
     ]
    }
   ],
   "source": [
    "sss = StratifiedShuffleSplit(train_size=0.8, n_splits=5) \n",
    "for train_index, test_index in sss.split(data_x, data_y):\n",
    "    print(sum(data_y[train_index]), len(train_index))"
   ]
  },
  {
   "cell_type": "code",
   "execution_count": null,
   "id": "0e9bf610-2780-432d-b50f-b38f481e6fcc",
   "metadata": {},
   "outputs": [],
   "source": []
  },
  {
   "cell_type": "markdown",
   "id": "3e87d799-b3c5-4f79-b11d-3dba09851e95",
   "metadata": {},
   "source": [
    "## main"
   ]
  },
  {
   "cell_type": "code",
   "execution_count": 48,
   "id": "d84f7277-fe0f-44ba-bd6c-f8b7b846f3c7",
   "metadata": {},
   "outputs": [],
   "source": [
    "file_list = [f for f in Path(pred_path).glob(\"*_reduced.csv\")]\n",
    "for f in file_list:\n",
    "    data = pd.read_csv(f.resolve())\n",
    "    sample = f.name.split('.')[0]\n",
    "    data_y = data[\"result\"].to_numpy()\n",
    "    data_x = data.loc[:, data.columns != 'result'].to_numpy()\n",
    "    break"
   ]
  },
  {
   "cell_type": "code",
   "execution_count": 56,
   "id": "32f2a90e-849c-418e-9185-fa31952f6406",
   "metadata": {},
   "outputs": [
    {
     "data": {
      "text/plain": [
       "{0.0, 1.0}"
      ]
     },
     "execution_count": 56,
     "metadata": {},
     "output_type": "execute_result"
    }
   ],
   "source": [
    "set(data_y)"
   ]
  },
  {
   "cell_type": "code",
   "execution_count": 65,
   "id": "1fcdd060-fe5c-4f4d-bbcf-f8383452efa2",
   "metadata": {},
   "outputs": [
    {
     "name": "stdout",
     "output_type": "stream",
     "text": [
      "              precision    recall  f1-score   support\n",
      "\n",
      "         0.0       0.67      0.93      0.78       516\n",
      "         1.0       0.89      0.55      0.68       516\n",
      "\n",
      "    accuracy                           0.74      1032\n",
      "   macro avg       0.78      0.74      0.73      1032\n",
      "weighted avg       0.78      0.74      0.73      1032\n",
      "\n"
     ]
    }
   ],
   "source": [
    "\n",
    "print(classification_report(y_test, 1*(y_pred>0.5)))"
   ]
  },
  {
   "cell_type": "code",
   "execution_count": 99,
   "id": "641542fe-4dc9-4d74-8c9c-ed4c9f301604",
   "metadata": {},
   "outputs": [
    {
     "name": "stdout",
     "output_type": "stream",
     "text": [
      "GB_Score = 0.26\n"
     ]
    }
   ],
   "source": [
    "print(\"GB_Score = %.5f\"%0.2555555555555)"
   ]
  },
  {
   "cell_type": "code",
   "execution_count": null,
   "id": "7cc174e0-265c-4bb1-b430-6234b87811b0",
   "metadata": {},
   "outputs": [],
   "source": []
  }
 ],
 "metadata": {
  "kernelspec": {
   "display_name": "Python 3",
   "language": "python",
   "name": "python3"
  },
  "language_info": {
   "codemirror_mode": {
    "name": "ipython",
    "version": 3
   },
   "file_extension": ".py",
   "mimetype": "text/x-python",
   "name": "python",
   "nbconvert_exporter": "python",
   "pygments_lexer": "ipython3",
   "version": "3.9.4"
  }
 },
 "nbformat": 4,
 "nbformat_minor": 5
}
