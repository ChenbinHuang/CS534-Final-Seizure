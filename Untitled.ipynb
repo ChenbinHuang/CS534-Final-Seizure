{
 "cells": [
  {
   "cell_type": "code",
   "execution_count": 1,
   "id": "ab9ef6a0-91a7-49e2-91ea-8c83380237e8",
   "metadata": {},
   "outputs": [],
   "source": [
    "from feature_selection.feature_selection import feature_selection, feature_selection_for_detection\n",
    "from splitter import splitter"
   ]
  },
  {
   "cell_type": "code",
   "execution_count": null,
   "id": "6fe73a88-7339-4efa-85ff-dcd9cec4728b",
   "metadata": {},
   "outputs": [
    {
     "name": "stdout",
     "output_type": "stream",
     "text": [
      "========== Dog_1 ==========\n",
      "Number of Observation(raw): 8064\n",
      "Number of features(raw): 449\n",
      "Fitting 5 folds for each of 20 candidates, totalling 100 fits\n",
      "========== Dog_2 ==========\n",
      "Number of Observation(raw): 8670\n",
      "Number of features(raw): 192\n",
      "Fitting 5 folds for each of 20 candidates, totalling 100 fits\n",
      "========== Dog_3 ==========\n",
      "Number of Observation(raw): 24192\n",
      "Number of features(raw): 449\n",
      "Fitting 5 folds for each of 20 candidates, totalling 100 fits\n"
     ]
    }
   ],
   "source": [
    "from pathlib import Path\n",
    "import os\n",
    "import numpy as np\n",
    "import pandas as pd\n",
    "\n",
    "from sklearn.ensemble import GradientBoostingRegressor\n",
    "from sklearn.metrics import classification_report,roc_curve, auc, RocCurveDisplay, accuracy_score, confusion_matrix\n",
    "from sklearn.model_selection import cross_validate, StratifiedShuffleSplit\n",
    "from sklearn.utils import resample\n",
    "\n",
    "\n",
    "\n",
    "pred_path = \"../files/SeizurePrediction/\"\n",
    "dect_path = \"../files/SeizureDetection/\"\n",
    "\n",
    "file_list = [f for f in Path(pred_path).glob(\"*og*.csv\") if \"reduced\" not in f.name]\n",
    "for f in file_list:\n",
    "    # data = pd.read_csv(f.resolve(), header=None)\n",
    "    sample = f.name.split('.')[0]\n",
    "    print('='*10,sample,'='*10)\n",
    "    data_x,data_y = feature_selection(f.resolve())\n",
    "    res = pd.DataFrame(data_x)\n",
    "    res[\"result\"] = data_y\n",
    "    res.to_csv(os.path.join(f.parent.resolve(), sample+\"_reduced.csv\"), index=False)"
   ]
  }
 ],
 "metadata": {
  "kernelspec": {
   "display_name": "Python 3",
   "language": "python",
   "name": "python3"
  },
  "language_info": {
   "codemirror_mode": {
    "name": "ipython",
    "version": 3
   },
   "file_extension": ".py",
   "mimetype": "text/x-python",
   "name": "python",
   "nbconvert_exporter": "python",
   "pygments_lexer": "ipython3",
   "version": "3.9.4"
  }
 },
 "nbformat": 4,
 "nbformat_minor": 5
}
