{
 "cells": [
  {
   "cell_type": "code",
   "execution_count": 1,
   "id": "ab9ef6a0-91a7-49e2-91ea-8c83380237e8",
   "metadata": {},
   "outputs": [],
   "source": [
    "from pathlib import Path\n",
    "import os\n",
    "import numpy as np\n",
    "import pandas as pd\n",
    "import matplotlib.pyplot as plt\n",
    "from sklearn.ensemble import GradientBoostingClassifier\n",
    "from sklearn.metrics import classification_report,roc_curve, auc, plot_roc_curve, accuracy_score, confusion_matrix, classification_report\n",
    "from sklearn.model_selection import cross_validate, StratifiedShuffleSplit, StratifiedKFold, cross_val_score\n",
    "from sklearn.utils import resample\n",
    "from sklearn import preprocessing"
   ]
  },
  {
   "cell_type": "code",
   "execution_count": null,
   "id": "0fd3680c-877c-466e-942e-1800c4343d5b",
   "metadata": {},
   "outputs": [],
   "source": [
    "from imblearn.over_sampling import SMOTE \n",
    "from collections import Counter"
   ]
  },
  {
   "cell_type": "markdown",
   "id": "b2cf2880-2453-4409-83f4-d67ca8b81226",
   "metadata": {},
   "source": [
    "## generate file"
   ]
  },
  {
   "cell_type": "code",
   "execution_count": 7,
   "id": "6fe73a88-7339-4efa-85ff-dcd9cec4728b",
   "metadata": {},
   "outputs": [
    {
     "name": "stdout",
     "output_type": "stream",
     "text": [
      "========== Dog_1 ==========\n",
      "Number of Observation(raw): 8064\n",
      "Number of features(raw): 449\n",
      "Fitting 5 folds for each of 20 candidates, totalling 100 fits\n",
      "========== Dog_2 ==========\n",
      "Number of Observation(raw): 8670\n",
      "Number of features(raw): 192\n",
      "Fitting 5 folds for each of 20 candidates, totalling 100 fits\n",
      "========== Dog_3 ==========\n",
      "Number of Observation(raw): 24192\n",
      "Number of features(raw): 449\n",
      "Fitting 5 folds for each of 20 candidates, totalling 100 fits\n",
      "========== Dog_4 ==========\n",
      "Number of Observation(raw): 14424\n",
      "Number of features(raw): 449\n",
      "Fitting 5 folds for each of 20 candidates, totalling 100 fits\n",
      "========== Dog_5 ==========\n",
      "Number of Observation(raw): 7680\n",
      "Number of features(raw): 180\n",
      "Fitting 5 folds for each of 20 candidates, totalling 100 fits\n"
     ]
    }
   ],
   "source": [
    "pred_path = \"../files/SeizurePrediction/\"\n",
    "dect_path = \"../files/SeizureDetection/\"\n",
    "\n",
    "# file_list = [f for f in Path(pred_path).glob(\"*og*.csv\") if \"reduced\" not in f.name]\n",
    "# for f in file_list:\n",
    "#     # data = pd.read_csv(f.resolve(), header=None)\n",
    "#     sample = f.name.split('.')[0]\n",
    "#     print('='*10,sample,'='*10)\n",
    "#     data_x,data_y = feature_selection(f.resolve())\n",
    "#     res = pd.DataFrame(data_x)\n",
    "#     res[\"result\"] = data_y\n",
    "#     res.to_csv(os.path.join(f.parent.resolve(), sample+\"_reduced.csv\"), index=False)"
   ]
  },
  {
   "cell_type": "markdown",
   "id": "773ffcee-0360-43e4-a326-fe99c276d808",
   "metadata": {},
   "source": [
    "## functions "
   ]
  },
  {
   "cell_type": "code",
   "execution_count": null,
   "id": "a7bd91b1-1594-440f-ab89-3e2c35a9b922",
   "metadata": {},
   "outputs": [],
   "source": []
  },
  {
   "cell_type": "markdown",
   "id": "df3e9c95-75ce-4155-826b-e40d3df1d0e0",
   "metadata": {},
   "source": [
    "## main"
   ]
  },
  {
   "cell_type": "code",
   "execution_count": null,
   "id": "058e75c0-de79-444d-b57e-dc6a94a309aa",
   "metadata": {},
   "outputs": [],
   "source": []
  },
  {
   "cell_type": "code",
   "execution_count": null,
   "id": "c6091f21-420d-42d3-a235-535a60488a71",
   "metadata": {},
   "outputs": [],
   "source": []
  }
 ],
 "metadata": {
  "kernelspec": {
   "display_name": "Python 3",
   "language": "python",
   "name": "python3"
  },
  "language_info": {
   "codemirror_mode": {
    "name": "ipython",
    "version": 3
   },
   "file_extension": ".py",
   "mimetype": "text/x-python",
   "name": "python",
   "nbconvert_exporter": "python",
   "pygments_lexer": "ipython3",
   "version": "3.9.4"
  }
 },
 "nbformat": 4,
 "nbformat_minor": 5
}
